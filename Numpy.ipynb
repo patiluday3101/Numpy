{
  "nbformat": 4,
  "nbformat_minor": 0,
  "metadata": {
    "colab": {
      "provenance": []
    },
    "kernelspec": {
      "name": "python3",
      "display_name": "Python 3"
    },
    "language_info": {
      "name": "python"
    }
  },
  "cells": [
    {
      "cell_type": "markdown",
      "source": [
        "1. What is a Python library? Why do we use Python libraries?"
      ],
      "metadata": {
        "id": "8gJCDCsJRMxE"
      }
    },
    {
      "cell_type": "markdown",
      "source": [
        "Ans-A Python library is a collection of pre-written code that provides functionalities and tools for various tasks. These libraries are essentially modules that you can import into your Python programs to use their functionalities without having to write the code from scratch. They can include functions, classes, and variables that help streamline development and make it easier to perform complex tasks.\n",
        "\n",
        "Here’s why we use Python libraries:\n",
        "\n",
        "1. **Code Reusability**: Libraries allow you to reuse code, which can save time and effort. Instead of writing the same functionality repeatedly, you can use libraries that have already implemented it.\n",
        "\n",
        "2. **Efficiency**: Many libraries are optimized and tested, so they can perform tasks more efficiently than custom code. This helps in improving the performance and reliability of your programs.\n",
        "\n",
        "3. **Complex Functionality**: Some libraries provide complex functionalities and algorithms that would be challenging and time-consuming to develop from scratch. For instance, libraries like TensorFlow or scikit-learn offer advanced machine learning capabilities.\n",
        "\n",
        "4. **Community Support**: Popular libraries often have strong community support, which means you can find documentation, tutorials, and forums to help you use them effectively.\n",
        "\n",
        "5. **Standardization**: Libraries often follow best practices and standards, which helps in writing consistent and maintainable code.\n",
        "\n",
        "6. **Focus on Core Logic**: By using libraries, you can focus on the core logic and unique features of your application rather than reinventing the wheel for common functionalities.\n",
        "\n"
      ],
      "metadata": {
        "id": "9PpY2uF4RM_x"
      }
    },
    {
      "cell_type": "markdown",
      "source": [
        "2. What is the difference between Numpy array and List?"
      ],
      "metadata": {
        "id": "qm5811lQRdnk"
      }
    },
    {
      "cell_type": "markdown",
      "source": [
        "Here’s a concise comparison:\n",
        "\n",
        "- **Python List**:\n",
        "  - Can hold mixed data types.\n",
        "  - Slower for numerical operations.\n",
        "  - Limited to basic operations and lacks advanced mathematical functions.\n",
        "  - Less memory-efficient.\n",
        "\n",
        "- **NumPy Array**:\n",
        "  - Holds elements of the same data type.\n",
        "  - Faster and more efficient for numerical operations.\n",
        "  - Provides a wide range of mathematical and array operations.\n",
        "  - More memory-efficient and supports multi-dimensional arrays.\n",
        "\n"
      ],
      "metadata": {
        "id": "anzyI9S6Rf-x"
      }
    },
    {
      "cell_type": "markdown",
      "source": [
        "3. Find the shape, size and dimension of the following array?\n",
        "[[1, 2, 3, 4]\n",
        "[5, 6, 7, 8],\n",
        "[9, 10, 11, 12]]"
      ],
      "metadata": {
        "id": "2meCULjgRv7o"
      }
    },
    {
      "cell_type": "code",
      "source": [
        "import numpy as np\n",
        "\n",
        "# Define the array\n",
        "array = np.array([\n",
        "    [1, 2, 3, 4],\n",
        "    [5, 6, 7, 8],\n",
        "    [9, 10, 11, 12]\n",
        "])\n",
        "\n",
        "# Get the shape of the array\n",
        "shape = array.shape\n",
        "\n",
        "# Get the size of the array\n",
        "size = array.size\n",
        "\n",
        "# Get the number of dimensions of the array\n",
        "dimensions = array.ndim\n",
        "\n",
        "# Print the results\n",
        "print(\"Shape:\", shape)\n",
        "print(\"Size:\", size)\n",
        "print(\"Dimensions:\", dimensions)\n"
      ],
      "metadata": {
        "colab": {
          "base_uri": "https://localhost:8080/"
        },
        "id": "wfxmH7qGRxj2",
        "outputId": "585e40a2-e7a4-4d27-e22b-4f1b51227072"
      },
      "execution_count": 1,
      "outputs": [
        {
          "output_type": "stream",
          "name": "stdout",
          "text": [
            "Shape: (3, 4)\n",
            "Size: 12\n",
            "Dimensions: 2\n"
          ]
        }
      ]
    },
    {
      "cell_type": "markdown",
      "source": [
        "4. Write python code to access the first row of the following array?\n",
        "[[1, 2, 3, 4]\n",
        "[5, 6, 7, 8],\n",
        "[9, 10, 11, 12]]"
      ],
      "metadata": {
        "id": "zWSBQwxxR9F7"
      }
    },
    {
      "cell_type": "code",
      "source": [
        "import numpy as np\n",
        "\n",
        "# Define the array\n",
        "array = np.array([\n",
        "    [1, 2, 3, 4],\n",
        "    [5, 6, 7, 8],\n",
        "    [9, 10, 11, 12]\n",
        "])\n",
        "\n",
        "# Access the first row\n",
        "first_row = array[0]\n",
        "\n",
        "# Print the result\n",
        "print(\"First row:\", first_row)\n"
      ],
      "metadata": {
        "colab": {
          "base_uri": "https://localhost:8080/"
        },
        "id": "ttQWrsBtSAVM",
        "outputId": "7d0aa838-0389-4ebf-db7c-b446ec488cec"
      },
      "execution_count": 2,
      "outputs": [
        {
          "output_type": "stream",
          "name": "stdout",
          "text": [
            "First row: [1 2 3 4]\n"
          ]
        }
      ]
    },
    {
      "cell_type": "markdown",
      "source": [
        "5. How do you access the element at the third row and fourth column from the given numpy array?\n",
        "[[1, 2, 3, 4]\n",
        "[5, 6, 7, 8],\n",
        "[9, 10, 11, 12]]"
      ],
      "metadata": {
        "id": "8ELLPgEpSF80"
      }
    },
    {
      "cell_type": "code",
      "source": [
        "import numpy as np\n",
        "\n",
        "# Define the array\n",
        "array = np.array([\n",
        "    [1, 2, 3, 4],\n",
        "    [5, 6, 7, 8],\n",
        "    [9, 10, 11, 12]\n",
        "])\n",
        "\n",
        "# Access the element at the third row and fourth column\n",
        "# Note: Indexing starts at 0, so third row is index 2 and fourth column is index 3\n",
        "element = array[2, 3]\n",
        "\n",
        "# Print the result\n",
        "print(\"Element at third row and fourth column:\", element)\n"
      ],
      "metadata": {
        "colab": {
          "base_uri": "https://localhost:8080/"
        },
        "id": "GZCVIDFcSFit",
        "outputId": "3b6fb7dd-eb76-424b-9c4b-0b82e4250ff9"
      },
      "execution_count": 3,
      "outputs": [
        {
          "output_type": "stream",
          "name": "stdout",
          "text": [
            "Element at third row and fourth column: 12\n"
          ]
        }
      ]
    },
    {
      "cell_type": "markdown",
      "source": [
        "6. Write code to extract all odd-indexed elements from the given numpy array?\n",
        "[[1, 2, 3, 4]\n",
        "[5, 6, 7, 8],\n",
        "[9, 10, 11, 12]]"
      ],
      "metadata": {
        "id": "x91HYAipSSzv"
      }
    },
    {
      "cell_type": "code",
      "source": [
        "import numpy as np\n",
        "\n",
        "# Define the array\n",
        "array = np.array([\n",
        "    [1, 2, 3, 4],\n",
        "    [5, 6, 7, 8],\n",
        "    [9, 10, 11, 12]\n",
        "])\n",
        "\n",
        "# Extract all odd-indexed elements\n",
        "# Note: Odd indices are 1 and 3 for both rows and columns\n",
        "odd_indexed_elements = array[::2, ::2]\n",
        "\n",
        "# Print the result\n",
        "print(\"Odd-indexed elements:\\n\", odd_indexed_elements)\n"
      ],
      "metadata": {
        "colab": {
          "base_uri": "https://localhost:8080/"
        },
        "id": "jGBnnI3xSSSS",
        "outputId": "b22a3a51-c611-47f5-ae54-63f69c2451d1"
      },
      "execution_count": 4,
      "outputs": [
        {
          "output_type": "stream",
          "name": "stdout",
          "text": [
            "Odd-indexed elements:\n",
            " [[ 1  3]\n",
            " [ 9 11]]\n"
          ]
        }
      ]
    },
    {
      "cell_type": "markdown",
      "source": [
        "7. How can you generate a random 3x3 matrix with values between 0 and 1?"
      ],
      "metadata": {
        "id": "VBcaAuYdSj00"
      }
    },
    {
      "cell_type": "code",
      "source": [
        "import numpy as np\n",
        "\n",
        "# Generate a random 3x3 matrix with values between 0 and 1\n",
        "random_matrix = np.random.rand(3, 3)\n",
        "\n",
        "# Print the result\n",
        "print(\"Random 3x3 matrix with values between 0 and 1:\\n\", random_matrix)\n"
      ],
      "metadata": {
        "colab": {
          "base_uri": "https://localhost:8080/"
        },
        "id": "ODq9xVctSsdx",
        "outputId": "25d85086-f141-4c25-9f19-caca1eada95c"
      },
      "execution_count": 7,
      "outputs": [
        {
          "output_type": "stream",
          "name": "stdout",
          "text": [
            "Random 3x3 matrix with values between 0 and 1:\n",
            " [[0.27929075 0.27550281 0.55035777]\n",
            " [0.43429079 0.91688298 0.36339282]\n",
            " [0.47342065 0.12462543 0.58404114]]\n"
          ]
        }
      ]
    },
    {
      "cell_type": "markdown",
      "source": [
        "8. Describe the difference between np.random.rand and np.random.randn?"
      ],
      "metadata": {
        "id": "KIBYQFDBS3RV"
      }
    },
    {
      "cell_type": "markdown",
      "source": [
        "Ans- np.random.rand(d1, d2, ...): Generates random numbers uniformly distributed between 0 and 1.\n",
        "\n",
        "np.random.randn(d1, d2, ...): Generates random numbers from a standard normal distribution (mean = 0, standard deviation = 1)."
      ],
      "metadata": {
        "id": "lkPY2zc2S6h8"
      }
    },
    {
      "cell_type": "markdown",
      "source": [
        "9. Write code to increase the dimension of the following array?\n",
        "[[1, 2, 3, 4]\n",
        "[5, 6, 7, 8],\n",
        "[9, 10, 11, 12]]"
      ],
      "metadata": {
        "id": "q2Tc40mETIbU"
      }
    },
    {
      "cell_type": "code",
      "source": [
        "import numpy as np\n",
        "\n",
        "# Define the original array\n",
        "array = np.array([\n",
        "    [1, 2, 3, 4],\n",
        "    [5, 6, 7, 8],\n",
        "    [9, 10, 11, 12]\n",
        "])\n",
        "\n",
        "# Increase the dimension by adding a new axis\n",
        "expanded_array = np.expand_dims(array, axis=0)  # Adds a new dimension at position 0\n",
        "\n",
        "print(\"Expanded array with np.expand_dims:\\n\", expanded_array)\n",
        "print(\"New shape:\", expanded_array.shape)\n"
      ],
      "metadata": {
        "colab": {
          "base_uri": "https://localhost:8080/"
        },
        "id": "nf2beyo3S55k",
        "outputId": "8047e6a2-c7b9-4a43-af23-7872282c46b1"
      },
      "execution_count": 8,
      "outputs": [
        {
          "output_type": "stream",
          "name": "stdout",
          "text": [
            "Expanded array with np.expand_dims:\n",
            " [[[ 1  2  3  4]\n",
            "  [ 5  6  7  8]\n",
            "  [ 9 10 11 12]]]\n",
            "New shape: (1, 3, 4)\n"
          ]
        }
      ]
    },
    {
      "cell_type": "markdown",
      "source": [
        "10. How to transpose the following array in NumPy?\n",
        "[[1, 2, 3, 4]\n",
        "[5, 6, 7, 8],\n",
        "[9, 10, 11, 12]]"
      ],
      "metadata": {
        "id": "Joq_ui7lTYcX"
      }
    },
    {
      "cell_type": "code",
      "source": [
        "import numpy as np\n",
        "\n",
        "# Define the array\n",
        "array = np.array([\n",
        "    [1, 2, 3, 4],\n",
        "    [5, 6, 7, 8],\n",
        "    [9, 10, 11, 12]\n",
        "])\n",
        "\n",
        "# Transpose the array using .T\n",
        "transposed_array = array.T\n",
        "\n",
        "print(\"Transposed array using .T:\\n\", transposed_array)\n"
      ],
      "metadata": {
        "colab": {
          "base_uri": "https://localhost:8080/"
        },
        "id": "01XHS1jFTdBy",
        "outputId": "15a09fa4-d044-4a5b-d129-8b0ea383005b"
      },
      "execution_count": 9,
      "outputs": [
        {
          "output_type": "stream",
          "name": "stdout",
          "text": [
            "Transposed array using .T:\n",
            " [[ 1  5  9]\n",
            " [ 2  6 10]\n",
            " [ 3  7 11]\n",
            " [ 4  8 12]]\n"
          ]
        }
      ]
    },
    {
      "cell_type": "markdown",
      "source": [
        "Matrix A: [[1, 2, 3, 4] [5, 6, 7, 8],[9, 10, 11, 12]]\n",
        "Matrix B: [[1, 2, 3, 4] [5, 6, 7, 8],[9, 10, 11, 12]]\n",
        "Perform the following operation using Python1\n",
        ",+ Index wise multiplicatio'\n",
        "]+ Matrix multiplicatio'\n",
        "+ Add both the matricK\n",
        "-+ Subtract matrix B from\n",
        "+ Divide Matrix B by A"
      ],
      "metadata": {
        "id": "NaFcHTAiTjBB"
      }
    },
    {
      "cell_type": "code",
      "source": [
        "import numpy as np\n",
        "\n",
        "# Define the matrices\n",
        "A = np.array([\n",
        "    [1, 2, 3, 4],\n",
        "    [5, 6, 7, 8],\n",
        "    [9, 10, 11, 12]\n",
        "])\n",
        "\n",
        "B = np.array([\n",
        "    [1, 2, 3, 4],\n",
        "    [5, 6, 7, 8],\n",
        "    [9, 10, 11, 12]\n",
        "])\n",
        "\n",
        "# Index-wise Multiplication\n",
        "index_wise_multiplication = A * B\n",
        "\n",
        "# Matrix Multiplication\n",
        "matrix_multiplication = np.dot(A, B.T)  # Transpose B to match dimensions for matrix multiplication\n",
        "\n",
        "# Add Both Matrices\n",
        "addition = A + B\n",
        "\n",
        "# Subtract Matrix B from A\n",
        "subtraction = A - B\n",
        "\n",
        "# Divide Matrix B by A\n",
        "# Note: Division will result in a warning if there are zeros in A, but here A has no zeros\n",
        "division = B / A\n",
        "\n",
        "# Print results\n",
        "print(\"Index-wise Multiplication:\\n\", index_wise_multiplication)\n",
        "print(\"\\nMatrix Multiplication:\\n\", matrix_multiplication)\n",
        "print(\"\\nAddition of Matrices:\\n\", addition)\n",
        "print(\"\\nSubtraction of Matrix B from A:\\n\", subtraction)\n",
        "print(\"\\nDivision of Matrix B by A:\\n\", division)\n"
      ],
      "metadata": {
        "colab": {
          "base_uri": "https://localhost:8080/"
        },
        "id": "7XBV3NHvTwbb",
        "outputId": "8ddd6adb-3898-44c2-b16a-b76796aa03c4"
      },
      "execution_count": 10,
      "outputs": [
        {
          "output_type": "stream",
          "name": "stdout",
          "text": [
            "Index-wise Multiplication:\n",
            " [[  1   4   9  16]\n",
            " [ 25  36  49  64]\n",
            " [ 81 100 121 144]]\n",
            "\n",
            "Matrix Multiplication:\n",
            " [[ 30  70 110]\n",
            " [ 70 174 278]\n",
            " [110 278 446]]\n",
            "\n",
            "Addition of Matrices:\n",
            " [[ 2  4  6  8]\n",
            " [10 12 14 16]\n",
            " [18 20 22 24]]\n",
            "\n",
            "Subtraction of Matrix B from A:\n",
            " [[0 0 0 0]\n",
            " [0 0 0 0]\n",
            " [0 0 0 0]]\n",
            "\n",
            "Division of Matrix B by A:\n",
            " [[1. 1. 1. 1.]\n",
            " [1. 1. 1. 1.]\n",
            " [1. 1. 1. 1.]]\n"
          ]
        }
      ]
    },
    {
      "cell_type": "markdown",
      "source": [
        "12. Which function in Numpy can be used to swap the byte order of an array?"
      ],
      "metadata": {
        "id": "mkDqyEByT2F9"
      }
    },
    {
      "cell_type": "markdown",
      "source": [
        "Ans-\n",
        "In NumPy, you can use the .byteswap() method to swap the byte order of an array. This is particularly useful when dealing with data that has different byte orders, such as when reading binary files written on systems with different endianness."
      ],
      "metadata": {
        "id": "q5dq4ah6T98n"
      }
    },
    {
      "cell_type": "markdown",
      "source": [
        "13. What is the significance of the np.linalg.inv function?"
      ],
      "metadata": {
        "id": "9ufszpLmUAd7"
      }
    },
    {
      "cell_type": "markdown",
      "source": [
        "Ans- Square Matrix: The matrix must be square (i.e., have the same number of rows and columns) for an inverse to exist.\n",
        "Invertibility: Not all matrices have an inverse. A matrix must be non-singular (i.e., its determinant must be non-zero) for an inverse to exist.\n",
        "Numerical Stability: For large or nearly singular matrices, numerical methods for computing inverses may be unstable or inaccurate. In such cases, other methods like pseudo-inverse or decomposition methods (e.g., LU decomposition) may be more appropriate."
      ],
      "metadata": {
        "id": "TVKTJhrYUDTj"
      }
    },
    {
      "cell_type": "markdown",
      "source": [
        "14. What does the np.reshape function do, and how is it used?"
      ],
      "metadata": {
        "id": "slaUlK9BUQFM"
      }
    },
    {
      "cell_type": "code",
      "source": [
        "# The np.reshape function in NumPy is used to change the shape of an array\n",
        "# without changing its data. It allows you to rearrange the elements of an\n",
        "# array into a new shape, as long as the total number of elements remains\n",
        "#  the same.\n",
        "import numpy as np\n",
        "\n",
        "# Create a 1D array\n",
        "array = np.arange(12)  # An array with elements [0, 1, 2, ..., 11]\n",
        "\n",
        "# Reshape the array to a 2D array with shape (3, 4)\n",
        "reshaped_array = np.reshape(array, (3, 4))\n",
        "\n",
        "print(\"Original array:\")\n",
        "print(array)\n",
        "\n",
        "print(\"\\nReshaped array (3x4):\")\n",
        "print(reshaped_array)\n",
        "\n",
        "# Another way to reshape using the .reshape method of the array object\n",
        "reshaped_array_alt = array.reshape(3, 4)\n",
        "\n",
        "print(\"\\nReshaped array using .reshape method:\")\n",
        "print(reshaped_array_alt)\n"
      ],
      "metadata": {
        "colab": {
          "base_uri": "https://localhost:8080/"
        },
        "id": "cOuusyRiT_Y3",
        "outputId": "98382a2f-4493-4573-ec8b-35d64ddf143e"
      },
      "execution_count": 11,
      "outputs": [
        {
          "output_type": "stream",
          "name": "stdout",
          "text": [
            "Original array:\n",
            "[ 0  1  2  3  4  5  6  7  8  9 10 11]\n",
            "\n",
            "Reshaped array (3x4):\n",
            "[[ 0  1  2  3]\n",
            " [ 4  5  6  7]\n",
            " [ 8  9 10 11]]\n",
            "\n",
            "Reshaped array using .reshape method:\n",
            "[[ 0  1  2  3]\n",
            " [ 4  5  6  7]\n",
            " [ 8  9 10 11]]\n"
          ]
        }
      ]
    },
    {
      "cell_type": "markdown",
      "source": [
        "15. What is broadcasting in Numpy?"
      ],
      "metadata": {
        "id": "f1WrxtGPUilw"
      }
    },
    {
      "cell_type": "markdown",
      "source": [
        "Ans- Broadcasting in NumPy is a powerful feature that allows you to perform arithmetic operations on arrays of different shapes in a way that is both efficient and intuitive. Broadcasting automatically expands the dimensions of smaller arrays to match the shape of larger arrays, enabling element-wise operations between arrays that do not have the same shape."
      ],
      "metadata": {
        "id": "LYrDfW9sUlXm"
      }
    }
  ]
}